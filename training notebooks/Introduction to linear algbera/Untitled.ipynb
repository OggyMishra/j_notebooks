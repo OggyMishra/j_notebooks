{
 "cells": [
  {
   "cell_type": "code",
   "execution_count": 15,
   "metadata": {},
   "outputs": [
    {
     "name": "stdout",
     "output_type": "stream",
     "text": [
      "90.0\n",
      "18.434948822922017\n",
      "39.23152048359225\n",
      "90.0\n",
      "65.90515744788931\n",
      "35.26438968275467\n"
     ]
    }
   ],
   "source": [
    "from functools import reduce\n",
    "import numpy as np\n",
    "import math as m\n",
    "pi = m.pi\n",
    "a1 = np.array([2, 1, 0 ,0])\n",
    "a2 = np.array([0, 0, 1 ,1])\n",
    "a3 = np.array([1,1,0,0])\n",
    "a4 = np.array([1,1,1,0])\n",
    "\n",
    "angle_a1_a2 = np.arccos( reduce(lambda x, y: x+y, a1 * a2) / (np.sqrt(reduce(lambda x, y: x + y , map(lambda k: k ** 2, a1))) * np.sqrt(reduce(lambda x, y: x + y , map(lambda k: k ** 2, a2))))) * 180/pi\n",
    "angle_a1_a3 = np.arccos( reduce(lambda x, y: x+y, a1 * a3) / (np.sqrt(reduce(lambda x, y: x + y , map(lambda k: k ** 2, a1))) * np.sqrt(reduce(lambda x, y: x + y , map(lambda k: k ** 2, a3))))) * 180/pi\n",
    "angle_a1_a4 = np.arccos( reduce(lambda x, y: x+y, a1 * a4) / (np.sqrt(reduce(lambda x, y: x + y , map(lambda k: k ** 2, a1))) * np.sqrt(reduce(lambda x, y: x + y , map(lambda k: k ** 2, a4))))) * 180/pi\n",
    "angle_a2_a3 = np.arccos( reduce(lambda x, y: x+y, a2 * a3) / (np.sqrt(reduce(lambda x, y: x + y , map(lambda k: k ** 2, a2))) * np.sqrt(reduce(lambda x, y: x + y , map(lambda k: k ** 2, a3))))) * 180/pi\n",
    "angle_a2_a4 = np.arccos( reduce(lambda x, y: x+y, a2 * a4) / (np.sqrt(reduce(lambda x, y: x + y , map(lambda k: k ** 2, a2))) * np.sqrt(reduce(lambda x, y: x + y , map(lambda k: k ** 2, a4))))) * 180/pi\n",
    "angle_a3_a4 = np.arccos( reduce(lambda x, y: x+y, a3 * a4) / (np.sqrt(reduce(lambda x, y: x + y , map(lambda k: k ** 2, a3))) * np.sqrt(reduce(lambda x, y: x + y , map(lambda k: k ** 2, a4))))) * 180/pi\n",
    "\n",
    "print(angle_a1_a2)\n",
    "print(angle_a1_a3)\n",
    "print(angle_a1_a4)\n",
    "print(angle_a2_a3)\n",
    "print(angle_a2_a4)\n",
    "print(angle_a3_a4)"
   ]
  },
  {
   "cell_type": "code",
   "execution_count": null,
   "metadata": {},
   "outputs": [],
   "source": []
  }
 ],
 "metadata": {
  "kernelspec": {
   "display_name": "Python 3",
   "language": "python",
   "name": "python3"
  },
  "language_info": {
   "codemirror_mode": {
    "name": "ipython",
    "version": 3
   },
   "file_extension": ".py",
   "mimetype": "text/x-python",
   "name": "python",
   "nbconvert_exporter": "python",
   "pygments_lexer": "ipython3",
   "version": "3.7.4"
  }
 },
 "nbformat": 4,
 "nbformat_minor": 2
}
