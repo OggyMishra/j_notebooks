{
 "cells": [
  {
   "cell_type": "code",
   "execution_count": 1,
   "metadata": {},
   "outputs": [],
   "source": [
    "import numpy as np\n",
    "import pandas as pd\n",
    "import matplotlib.pyplot as plt \n",
    "import seaborn as sns\n",
    "import warnings\n",
    "\n",
    "# This library will be required for label encodings for car company name\n",
    "from sklearn.preprocessing import LabelEncoder\n",
    "\n",
    "# This will be used to get the dictionary mapping for the car company encodings done using LabelEncoder\n",
    "from sklearn import preprocessing\n",
    "\n",
    "# This library will be required to split the data set into train and test sets respectively.\n",
    "from sklearn.model_selection import train_test_split\n",
    "\n",
    "# This will be required to scale the data.\n",
    "from sklearn.preprocessing import MinMaxScaler\n",
    "\n",
    "# Importing RFE and LinearRegression\n",
    "from sklearn.feature_selection import RFE\n",
    "from sklearn.linear_model import LinearRegression\n",
    "\n",
    "# Importing STATS MODEL\n",
    "import statsmodels.api as sm\n",
    "\n",
    "# Import VIF module\n",
    "from statsmodels.stats.outliers_influence import variance_inflation_factor"
   ]
  },
  {
   "cell_type": "code",
   "execution_count": 2,
   "metadata": {},
   "outputs": [],
   "source": [
    "# Prepare data\n"
   ]
  },
  {
   "cell_type": "code",
   "execution_count": null,
   "metadata": {},
   "outputs": [],
   "source": [
    "cars_"
   ]
  }
 ],
 "metadata": {
  "kernelspec": {
   "display_name": "Python 2",
   "language": "python",
   "name": "python2"
  },
  "language_info": {
   "codemirror_mode": {
    "name": "ipython",
    "version": 2
   },
   "file_extension": ".py",
   "mimetype": "text/x-python",
   "name": "python",
   "nbconvert_exporter": "python",
   "pygments_lexer": "ipython2",
   "version": "2.7.17"
  }
 },
 "nbformat": 4,
 "nbformat_minor": 2
}
