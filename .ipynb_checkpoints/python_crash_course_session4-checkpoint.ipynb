{
 "cells": [
  {
   "cell_type": "code",
   "execution_count": 8,
   "metadata": {},
   "outputs": [],
   "source": [
    "# Lambda Functions\n",
    "# Function that filter even number\n",
    "\n",
    "df = lambda x: 'Yes' if x % 2 == 0 else 'No'"
   ]
  },
  {
   "cell_type": "code",
   "execution_count": 11,
   "metadata": {},
   "outputs": [],
   "source": [
    "# Filter, Reduce and map"
   ]
  },
  {
   "cell_type": "code",
   "execution_count": 12,
   "metadata": {},
   "outputs": [],
   "source": [
    "# Filter Function"
   ]
  },
  {
   "cell_type": "code",
   "execution_count": 16,
   "metadata": {},
   "outputs": [
    {
     "data": {
      "text/plain": [
       "[2]"
      ]
     },
     "execution_count": 16,
     "metadata": {},
     "output_type": "execute_result"
    }
   ],
   "source": [
    "val = [1, 2,3, 5, 67, 189, 83]\n",
    "list(filter(lambda x: x %2 == 0, val))\n"
   ]
  },
  {
   "cell_type": "code",
   "execution_count": 17,
   "metadata": {},
   "outputs": [],
   "source": [
    "# Map function"
   ]
  },
  {
   "cell_type": "code",
   "execution_count": 18,
   "metadata": {},
   "outputs": [
    {
     "data": {
      "text/plain": [
       "[2, 4, 6, 10, 134, 378, 166]"
      ]
     },
     "execution_count": 18,
     "metadata": {},
     "output_type": "execute_result"
    }
   ],
   "source": [
    "list(map(lambda x: x * 2, val))"
   ]
  },
  {
   "cell_type": "code",
   "execution_count": 19,
   "metadata": {},
   "outputs": [],
   "source": [
    "# reduce function"
   ]
  },
  {
   "cell_type": "code",
   "execution_count": 20,
   "metadata": {},
   "outputs": [
    {
     "ename": "SyntaxError",
     "evalue": "can't assign to operator (<ipython-input-20-cf29e761c7de>, line 2)",
     "output_type": "error",
     "traceback": [
      "\u001b[1;36m  File \u001b[1;32m\"<ipython-input-20-cf29e761c7de>\"\u001b[1;36m, line \u001b[1;32m2\u001b[0m\n\u001b[1;33m    1+2 = 3\u001b[0m\n\u001b[1;31mSyntaxError\u001b[0m\u001b[1;31m:\u001b[0m can't assign to operator\n"
     ]
    }
   ],
   "source": [
    "[1, 2, 3, 4]\n",
    "1+2 = 3\n",
    "3+ 3 = 6\n",
    "6+ 4 = 10"
   ]
  },
  {
   "cell_type": "code",
   "execution_count": 21,
   "metadata": {},
   "outputs": [],
   "source": [
    "# Reduce is not part of default python package"
   ]
  },
  {
   "cell_type": "code",
   "execution_count": 22,
   "metadata": {},
   "outputs": [],
   "source": [
    "from functools import reduce"
   ]
  },
  {
   "cell_type": "code",
   "execution_count": 23,
   "metadata": {},
   "outputs": [
    {
     "data": {
      "text/plain": [
       "350"
      ]
     },
     "execution_count": 23,
     "metadata": {},
     "output_type": "execute_result"
    }
   ],
   "source": [
    "reduce(lambda x, y: x+ y, val)"
   ]
  },
  {
   "cell_type": "code",
   "execution_count": 24,
   "metadata": {},
   "outputs": [],
   "source": [
    "# what is the difference in apply and map etc ??\n",
    "# can we use nested if else under lambda.\n",
    "# "
   ]
  },
  {
   "cell_type": "code",
   "execution_count": 25,
   "metadata": {},
   "outputs": [],
   "source": [
    "# Reading and Writing file\n",
    "f = open(\"D:\\\\Private workspace\\\\j_notebooks\\\\self notebooks\\\\upgrad.txt\", 'w')"
   ]
  },
  {
   "cell_type": "code",
   "execution_count": 26,
   "metadata": {},
   "outputs": [],
   "source": [
    "f.write('waste of 1 hour')"
   ]
  },
  {
   "cell_type": "code",
   "execution_count": 27,
   "metadata": {},
   "outputs": [],
   "source": [
    "f.close()"
   ]
  },
  {
   "cell_type": "code",
   "execution_count": 55,
   "metadata": {},
   "outputs": [
    {
     "name": "stdout",
     "output_type": "stream",
     "text": [
      "['geeg', 'keek', 'aa', 'madam']\n",
      "['geeg', 'keek', 'aa', 'madam']\n"
     ]
    }
   ],
   "source": [
    "# Given a list of strings, find all palindromes.my_list = ['geeks', 'geeg', 'keek', 'practise', 'aa']\n",
    "my_list = ['geeks', 'geeg', 'keek', 'practise', 'aa', 'madam']\n",
    "print(filter(lambda x: x[::-1] == x, my_list))\n",
    "print( filter(lambda x: x == \"\".join(reversed(x)), my_list))"
   ]
  },
  {
   "cell_type": "code",
   "execution_count": 73,
   "metadata": {},
   "outputs": [
    {
     "name": "stdout",
     "output_type": "stream",
     "text": [
      "citizen New York city fought won the election\n"
     ]
    }
   ],
   "source": [
    "# pythob progrea o remove stop \n",
    "list_of_stop_words = [\"in\", \"of\", \"a\", \"and\"]\n",
    "Input = \"a citizen of New York city fought and won in the election\"\n",
    "list_ip = Input.split(' ')\n",
    "print(\" \".join(list(filter(lambda x: x not in list_of_stop_words, list_ip))))"
   ]
  },
  {
   "cell_type": "code",
   "execution_count": 71,
   "metadata": {},
   "outputs": [
    {
     "name": "stdout",
     "output_type": "stream",
     "text": [
      "[3, 7, 11, 15, 19]\n"
     ]
    }
   ],
   "source": [
    "# Given two lists: x = [1,3,5,7,9] y = [2,4,6,8,10], obtain a 3rd list with the sum from two lists:[ 3 , 7 , 11 , 15 , 19\n",
    "x = [1,3,5,7,9]\n",
    "y =  [2,4,6,8,10]\n",
    "print(map(lambda a, b : a+ b, x, y))\n"
   ]
  },
  {
   "cell_type": "code",
   "execution_count": 77,
   "metadata": {},
   "outputs": [
    {
     "name": "stdout",
     "output_type": "stream",
     "text": [
      "['G', 'G', 'K', 'P', 'A', 'M']\n"
     ]
    }
   ],
   "source": [
    "print(list(map(lambda x: x[0].upper(), my_list)))"
   ]
  },
  {
   "cell_type": "code",
   "execution_count": 84,
   "metadata": {},
   "outputs": [
    {
     "data": {
      "text/plain": [
       "7"
      ]
     },
     "execution_count": 84,
     "metadata": {},
     "output_type": "execute_result"
    }
   ],
   "source": [
    "res = [1, 2, 5, 7]\n",
    "reduce(lambda x, y: x if x > y else y, res)"
   ]
  },
  {
   "cell_type": "code",
   "execution_count": 103,
   "metadata": {},
   "outputs": [],
   "source": [
    "def createDict(inputString):\n",
    "    dict_final = {};\n",
    "    for tp in inputString:\n",
    "        dict_final[tp] = dict_final.get(tp, 0) + 1\n",
    "        \n",
    "    print(dict_final)"
   ]
  },
  {
   "cell_type": "code",
   "execution_count": 104,
   "metadata": {},
   "outputs": [
    {
     "name": "stdout",
     "output_type": "stream",
     "text": [
      "{'e': 1, 'I': 1, 'h': 1, 'l': 3, 'o': 2, 'n': 1, 'p': 1, 't': 1, 'v': 1, 'y': 1}\n"
     ]
    }
   ],
   "source": [
    "createDict(\"Ilovepythonll\")"
   ]
  },
  {
   "cell_type": "code",
   "execution_count": 105,
   "metadata": {},
   "outputs": [
    {
     "data": {
      "text/plain": [
       "{'G': 1,\n",
       " 'I': 1,\n",
       " 'L': 2,\n",
       " 'O': 1,\n",
       " 'P': 1,\n",
       " 'a': 3,\n",
       " 'd': 1,\n",
       " 'e': 3,\n",
       " 'f': 1,\n",
       " 'g': 1,\n",
       " 'i': 2,\n",
       " 'l': 2,\n",
       " 'm': 1,\n",
       " 'n': 4,\n",
       " 'o': 2,\n",
       " 'p': 1,\n",
       " 'r': 3,\n",
       " 't': 1,\n",
       " 'u': 1,\n",
       " 'v': 1}"
      ]
     },
     "execution_count": 105,
     "metadata": {},
     "output_type": "execute_result"
    }
   ],
   "source": [
    "str1 = 'ILoveupGradOnlineLearningPlatfrom'\n",
    "{e:str1.count(e) for e in set(str1)}\n"
   ]
  },
  {
   "cell_type": "code",
   "execution_count": 106,
   "metadata": {},
   "outputs": [
    {
     "data": {
      "text/plain": [
       "{'G',\n",
       " 'I',\n",
       " 'L',\n",
       " 'O',\n",
       " 'P',\n",
       " 'a',\n",
       " 'd',\n",
       " 'e',\n",
       " 'f',\n",
       " 'g',\n",
       " 'i',\n",
       " 'l',\n",
       " 'm',\n",
       " 'n',\n",
       " 'o',\n",
       " 'p',\n",
       " 'r',\n",
       " 't',\n",
       " 'u',\n",
       " 'v'}"
      ]
     },
     "execution_count": 106,
     "metadata": {},
     "output_type": "execute_result"
    }
   ],
   "source": [
    "set(str1)"
   ]
  },
  {
   "cell_type": "code",
   "execution_count": null,
   "metadata": {},
   "outputs": [],
   "source": []
  }
 ],
 "metadata": {
  "kernelspec": {
   "display_name": "Python 2",
   "language": "python",
   "name": "python2"
  },
  "language_info": {
   "codemirror_mode": {
    "name": "ipython",
    "version": 2
   },
   "file_extension": ".py",
   "mimetype": "text/x-python",
   "name": "python",
   "nbconvert_exporter": "python",
   "pygments_lexer": "ipython2",
   "version": "2.7.15"
  }
 },
 "nbformat": 4,
 "nbformat_minor": 2
}
