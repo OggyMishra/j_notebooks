{
 "cells": [
  {
   "cell_type": "code",
   "execution_count": null,
   "metadata": {},
   "outputs": [],
   "source": [
    "# EDA:\n",
    "# course path::\n",
    "\n",
    "# 1) Sourcing\n",
    "# 2) Cleaning\n",
    "# 3) Univariate Analysis\n",
    "# 4) Bi-Variate Analysis\n",
    "# 5) Derive Metrics: you can create new columns from the exisiting data. For e.g student who cleared the JEE exam, create a new column for it.\n",
    "\n",
    "# To solve a busniess problem you need to have historical data.\n",
    "# Typicall data comes from various sources, your first job at hand is to procure the data from private and public sources.\n",
    "# There are two kinds of data\n",
    "# 1) Public"
   ]
  }
 ],
 "metadata": {
  "kernelspec": {
   "display_name": "Python 2",
   "language": "python",
   "name": "python2"
  },
  "language_info": {
   "codemirror_mode": {
    "name": "ipython",
    "version": 2
   },
   "file_extension": ".py",
   "mimetype": "text/x-python",
   "name": "python",
   "nbconvert_exporter": "python",
   "pygments_lexer": "ipython2",
   "version": "2.7.17"
  }
 },
 "nbformat": 4,
 "nbformat_minor": 2
}
