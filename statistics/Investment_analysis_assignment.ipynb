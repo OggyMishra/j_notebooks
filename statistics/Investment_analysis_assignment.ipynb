{
 "cells": [
  {
   "cell_type": "markdown",
   "metadata": {},
   "source": [
    "Investment Analysis\n",
    "\n",
    "Investment Analysis Points:\n",
    "\n",
    "1) It wants to invest between 5 to 15 million USD per round of investment.\n",
    "\n",
    "2) It wants to invest only in English-speaking countries because of the ease of communication with the companies.\n",
    "\n",
    "Strategy:\n",
    "\n",
    "a) Spark Funds wants to invest where most other investors are investing. This pattern is often observed among early stage startup investors.\n",
    "\n",
    "Goals of data analysis: \n",
    "\n",
    "goals are divided into three sub-goals:\n",
    "\n",
    "1) Investment type analysis: Comparing the typical investment amounts in the venture, seed, angel, private equity etc. so that Spark Funds can choose the type that is best suited for their strategy.\n",
    "\n",
    "2) Country analysis: Identifying the countries which have been the most heavily invested in the past. These will be Spark Funds’ favourites as well.\n",
    "\n",
    "3) Sector analysis: Understanding the distribution of investments across the eight main sectors. (Note that we are interested in the eight 'main sectors' provided in the mapping file. The two files — companies and rounds2 — have numerous sub-sector names; hence, you will need to map each sub-sector to its main sector.)\n"
   ]
  },
  {
   "cell_type": "code",
   "execution_count": 231,
   "metadata": {},
   "outputs": [],
   "source": [
    "import pandas as pd\n",
    "import numpy as np\n",
    "import requests\n",
    "import json\n",
    "import seaborn as sns\n",
    "import wikipedia as wp\n",
    "import re\n",
    "from matplotlib import pyplot as plt\n",
    "\n",
    "# to return the country name from iso code\n",
    "def get_country_names():\n",
    "    iso3_iso2_data = requests.get('http://country.io/iso3.json').content\n",
    "    iso2_to_country_data = requests.get('http://country.io/names.json').content\n",
    "    iso3_to_iso_2_map = json.loads(iso3_iso2_data.decode('utf-8'))\n",
    "    iso2_to_country_map = json.loads(iso2_to_country_data.decode('utf-8'))\n",
    "    iso3_to_country_map = {v: iso2_to_country_map[k] for k, v in iso3_to_iso_2_map.items()}\n",
    "    return iso3_to_country_map\n",
    "\n",
    "# to get the english speaking countries\n",
    "def get_english_speaking_countries():\n",
    "    url = \"https://en.wikipedia.org/wiki/List_of_territorial_entities_where_English_is_an_official_language\"\n",
    "    table = pd.read_html(url, header=0)\n",
    "    table = pd.concat([table[0], table[1]], axis = 0, sort=True)\n",
    "    table = table.drop(['Nr','Population','Population1', 'Region'], axis=1)\n",
    "    table = table[table['Primary language?'].str.contains('Yes')]\n",
    "    table = table.drop(['Primary language?'], axis=1)\n",
    "    table = table.rename(columns = {'Alpha-3 Code':'country_code'})\n",
    "    table['Country'] = table['Country'].apply(lambda x: re.sub(r'([^a-zA-Z ]+?)','', x))\n",
    "    return table\n",
    "\n",
    "investement_fund_range = (5000000, 15000000)\n",
    "# TODO:\n",
    "# strip all data attrbiutes.\n",
    "# remove special characters from each attribute.\n",
    "# convert date format to proper date format.\n",
    "# Remove Outlier which is above 95 % .\n",
    "# Remove those rows for which company operation is closed. As we don't need to invest there.\n",
    "# Impute data where NAN is less than 30 %"
   ]
  },
  {
   "cell_type": "code",
   "execution_count": 16,
   "metadata": {},
   "outputs": [
    {
     "data": {
      "text/html": [
       "<div>\n",
       "<style scoped>\n",
       "    .dataframe tbody tr th:only-of-type {\n",
       "        vertical-align: middle;\n",
       "    }\n",
       "\n",
       "    .dataframe tbody tr th {\n",
       "        vertical-align: top;\n",
       "    }\n",
       "\n",
       "    .dataframe thead th {\n",
       "        text-align: right;\n",
       "    }\n",
       "</style>\n",
       "<table border=\"1\" class=\"dataframe\">\n",
       "  <thead>\n",
       "    <tr style=\"text-align: right;\">\n",
       "      <th></th>\n",
       "      <th>permalink</th>\n",
       "      <th>name</th>\n",
       "      <th>homepage_url</th>\n",
       "      <th>category_list</th>\n",
       "      <th>status</th>\n",
       "      <th>country_code</th>\n",
       "      <th>state_code</th>\n",
       "      <th>region</th>\n",
       "      <th>city</th>\n",
       "      <th>founded_at</th>\n",
       "    </tr>\n",
       "  </thead>\n",
       "  <tbody>\n",
       "    <tr>\n",
       "      <th>count</th>\n",
       "      <td>66368</td>\n",
       "      <td>66367</td>\n",
       "      <td>61310</td>\n",
       "      <td>63220</td>\n",
       "      <td>66368</td>\n",
       "      <td>59410</td>\n",
       "      <td>57821</td>\n",
       "      <td>58338</td>\n",
       "      <td>58340</td>\n",
       "      <td>51147</td>\n",
       "    </tr>\n",
       "    <tr>\n",
       "      <th>unique</th>\n",
       "      <td>66368</td>\n",
       "      <td>66102</td>\n",
       "      <td>61191</td>\n",
       "      <td>27296</td>\n",
       "      <td>4</td>\n",
       "      <td>137</td>\n",
       "      <td>311</td>\n",
       "      <td>1092</td>\n",
       "      <td>5111</td>\n",
       "      <td>3978</td>\n",
       "    </tr>\n",
       "    <tr>\n",
       "      <th>top</th>\n",
       "      <td>/Organization/Laguna-Blends</td>\n",
       "      <td>Roost</td>\n",
       "      <td>http://www.askforoffer.com</td>\n",
       "      <td>Software</td>\n",
       "      <td>operating</td>\n",
       "      <td>USA</td>\n",
       "      <td>CA</td>\n",
       "      <td>SF Bay Area</td>\n",
       "      <td>San Francisco</td>\n",
       "      <td>01-01-2012</td>\n",
       "    </tr>\n",
       "    <tr>\n",
       "      <th>freq</th>\n",
       "      <td>1</td>\n",
       "      <td>4</td>\n",
       "      <td>5</td>\n",
       "      <td>3995</td>\n",
       "      <td>53034</td>\n",
       "      <td>37601</td>\n",
       "      <td>12900</td>\n",
       "      <td>8804</td>\n",
       "      <td>3526</td>\n",
       "      <td>2730</td>\n",
       "    </tr>\n",
       "  </tbody>\n",
       "</table>\n",
       "</div>"
      ],
      "text/plain": [
       "                          permalink   name                homepage_url  \\\n",
       "count                         66368  66367                       61310   \n",
       "unique                        66368  66102                       61191   \n",
       "top     /Organization/Laguna-Blends  Roost  http://www.askforoffer.com   \n",
       "freq                              1      4                           5   \n",
       "\n",
       "       category_list     status country_code state_code       region  \\\n",
       "count          63220      66368        59410      57821        58338   \n",
       "unique         27296          4          137        311         1092   \n",
       "top         Software  operating          USA         CA  SF Bay Area   \n",
       "freq            3995      53034        37601      12900         8804   \n",
       "\n",
       "                 city  founded_at  \n",
       "count           58340       51147  \n",
       "unique           5111        3978  \n",
       "top     San Francisco  01-01-2012  \n",
       "freq             3526        2730  "
      ]
     },
     "execution_count": 16,
     "metadata": {},
     "output_type": "execute_result"
    }
   ],
   "source": [
    "companies = pd.read_csv('companies.txt', sep='\\t', encoding='unicode_escape')\n",
    "companies.describe()"
   ]
  },
  {
   "cell_type": "code",
   "execution_count": 17,
   "metadata": {},
   "outputs": [
    {
     "name": "stdout",
     "output_type": "stream",
     "text": [
      "90247\n"
     ]
    }
   ],
   "source": [
    "# result expected\n",
    "# 1. How many unique companies are present in rounds2? 90247\n",
    "rounds2 = pd.read_csv('rounds2.csv', encoding='unicode_escape')\n",
    "print(len(rounds2['company_permalink'].unique()))"
   ]
  },
  {
   "cell_type": "code",
   "execution_count": 18,
   "metadata": {},
   "outputs": [
    {
     "name": "stdout",
     "output_type": "stream",
     "text": [
      "66368\n"
     ]
    }
   ],
   "source": [
    "# 2. How many unique companies are present in companies? 66368\n",
    "print(len(companies['permalink'].unique()))"
   ]
  },
  {
   "cell_type": "code",
   "execution_count": 19,
   "metadata": {},
   "outputs": [],
   "source": [
    "# 3. In the companies data frame, which column can be used as the unique key for each company? Write the name of the column.\n",
    "# permalink"
   ]
  },
  {
   "cell_type": "code",
   "execution_count": 208,
   "metadata": {
    "scrolled": false
   },
   "outputs": [],
   "source": [
    "# 4. Are there any companies in the rounds2 file which are not present in companies? Answer yes or no: Y/N \n",
    "companies = companies.rename(columns={'permalink':'company_permalink'})\n",
    "companies['company_permalink'] = companies['company_permalink'].str.lower()\n",
    "rounds2['company_permalink'] = rounds2['company_permalink'].str.lower()\n",
    "rounds2_ex_companies = rounds2.merge(companies, how='left', on='company_permalink')\n",
    "rounds2_ex_companies.loc[rounds2_ex_companies['name'].isnull() & rounds2_ex_companies['homepage_url'].isnull()].count()\n",
    "# Total 7 companies which exist rounds2 file.\n",
    "# Yes\n",
    "\n",
    "# 5. Merge the two data frames so that all variables (columns) in the companies frame are added to the rounds2 data frame.\n",
    "# Name the merged frame master_frame. How many observations are present in master_frame?\n",
    "# Ignoring the companies which doesn't exist on the companies file.\n",
    "master_frame = companies.merge(rounds2, how='inner', on='company_permalink')\n",
    "\n",
    "master_frame = master_frame[master_frame.raised_amount_usd.notnull()]    \n",
    "master_frame['raised_amount_usd'] = master_frame['raised_amount_usd'].apply(lambda x: int(x))\n",
    "# 114942"
   ]
  },
  {
   "cell_type": "markdown",
   "metadata": {},
   "source": [
    "Calculate the most representative value of the investment amount for each of the four funding types (venture, angel, seed, and private equity)\n",
    "\n",
    "Based on the most representative investment amount calculated above, which investment type do you think is the most suitable for Spark Funds?"
   ]
  },
  {
   "cell_type": "code",
   "execution_count": 306,
   "metadata": {
    "scrolled": true
   },
   "outputs": [
    {
     "data": {
      "text/html": [
       "<div>\n",
       "<style scoped>\n",
       "    .dataframe tbody tr th:only-of-type {\n",
       "        vertical-align: middle;\n",
       "    }\n",
       "\n",
       "    .dataframe tbody tr th {\n",
       "        vertical-align: top;\n",
       "    }\n",
       "\n",
       "    .dataframe thead th {\n",
       "        text-align: right;\n",
       "    }\n",
       "</style>\n",
       "<table border=\"1\" class=\"dataframe\">\n",
       "  <thead>\n",
       "    <tr style=\"text-align: right;\">\n",
       "      <th></th>\n",
       "      <th>min</th>\n",
       "      <th>max</th>\n",
       "      <th>sum</th>\n",
       "      <th>mean</th>\n",
       "      <th>median</th>\n",
       "      <th>count</th>\n",
       "    </tr>\n",
       "    <tr>\n",
       "      <th>funding_round_type</th>\n",
       "      <th></th>\n",
       "      <th></th>\n",
       "      <th></th>\n",
       "      <th></th>\n",
       "      <th></th>\n",
       "      <th></th>\n",
       "    </tr>\n",
       "  </thead>\n",
       "  <tbody>\n",
       "    <tr>\n",
       "      <th>private_equity</th>\n",
       "      <td>0</td>\n",
       "      <td>4745460219</td>\n",
       "      <td>141925436105</td>\n",
       "      <td>73308593</td>\n",
       "      <td>20000000</td>\n",
       "      <td>1936</td>\n",
       "    </tr>\n",
       "    <tr>\n",
       "      <th>venture</th>\n",
       "      <td>0</td>\n",
       "      <td>17600000000</td>\n",
       "      <td>590126216876</td>\n",
       "      <td>11748949</td>\n",
       "      <td>5000000</td>\n",
       "      <td>50228</td>\n",
       "    </tr>\n",
       "    <tr>\n",
       "      <th>angel</th>\n",
       "      <td>0</td>\n",
       "      <td>494511992</td>\n",
       "      <td>4659255123</td>\n",
       "      <td>958694</td>\n",
       "      <td>400000</td>\n",
       "      <td>4860</td>\n",
       "    </tr>\n",
       "    <tr>\n",
       "      <th>seed</th>\n",
       "      <td>0</td>\n",
       "      <td>200000000</td>\n",
       "      <td>16988238596</td>\n",
       "      <td>719779</td>\n",
       "      <td>275000</td>\n",
       "      <td>23602</td>\n",
       "    </tr>\n",
       "  </tbody>\n",
       "</table>\n",
       "</div>"
      ],
      "text/plain": [
       "                    min          max           sum      mean    median  count\n",
       "funding_round_type                                                           \n",
       "private_equity        0   4745460219  141925436105  73308593  20000000   1936\n",
       "venture               0  17600000000  590126216876  11748949   5000000  50228\n",
       "angel                 0    494511992    4659255123    958694    400000   4860\n",
       "seed                  0    200000000   16988238596    719779    275000  23602"
      ]
     },
     "execution_count": 306,
     "metadata": {},
     "output_type": "execute_result"
    },
    {
     "data": {
      "image/png": "[encoded data removed]",
      "text/plain": [
       "<Figure size 1152x432 with 1 Axes>"
      ]
     },
     "metadata": {},
     "output_type": "display_data"
    }
   ],
   "source": [
    "# drop the columns which is of no use for analysing the funding types\n",
    "funding_analysis_frame = master_frame\n",
    "funding_analysis_frame = funding_analysis_frame.drop(['homepage_url','state_code','funded_at', 'country_code'\n",
    "                                                      ,'city', 'region','category_list', 'founded_at'\n",
    "                                                      , 'funding_round_code']\n",
    "                                                      , axis=1)\n",
    "# As we are only interseted in these (venture, angel, seed, and private equity) four types of funding_type remove others funding types.\n",
    "intersted_funding_types = ['venture', 'angel', 'seed', 'private_equity']\n",
    "filtered_funding_analysis_frame = funding_analysis_frame[funding_analysis_frame['funding_round_type'].isin(intersted_funding_types)]     \n",
    "#Visualize the box plot of this frame\n",
    "plt.figure(100, figsize=(16, 6))\n",
    "plt.yscale('symlog')\n",
    "filtered_funding_analysis_frame\n",
    "sns.boxplot(y='raised_amount_usd', \n",
    "                x='funding_round_type',\n",
    "                data = filtered_funding_analysis_frame, width=0.5)\n",
    "\n",
    "filtered_funding_analysis_frame = filtered_funding_analysis_frame.groupby('funding_round_type')['raised_amount_usd'].agg([min, max, sum, np.mean, np.median, 'count'])\n",
    "filtered_funding_analysis_frame = filtered_funding_analysis_frame.sort_values(by='mean', ascending=False)\n",
    "filtered_funding_analysis_frame['mean'] = filtered_funding_analysis_frame['mean'].apply(lambda x: int(x))\n",
    "filtered_funding_analysis_frame\n",
    "# prob: Calculate the most representative value of the investment amount for each of the four funding types (venture, angel, seed, and private equity)\n",
    "# solution:\n",
    "# Venture:  11748949\n",
    "# angel: 958694\n",
    "# seed: 719779\n",
    "# private equity: 73308593\n",
    "\n",
    "# prob: Based on the most representative investment amount calculated above, which investment type do you think is the most suitable for Spark Funds?\n",
    "# since Spark Funds want to spend 5 to 15 million, \n",
    "# solution: Venture\n",
    "# ------------------------------second breakpoint----------------------------------------------------"
   ]
  },
  {
   "cell_type": "code",
   "execution_count": 307,
   "metadata": {
    "scrolled": true
   },
   "outputs": [
    {
     "name": "stderr",
     "output_type": "stream",
     "text": [
      "D:\\anaconda\\lib\\site-packages\\matplotlib\\scale.py:489: RuntimeWarning: invalid value encountered in sign\n",
      "  sign = np.sign(a)\n",
      "D:\\anaconda\\lib\\site-packages\\numpy\\ma\\core.py:2146: RuntimeWarning: invalid value encountered in greater_equal\n",
      "  condition = (xf >= v1) & (xf <= v2)\n",
      "D:\\anaconda\\lib\\site-packages\\numpy\\ma\\core.py:2146: RuntimeWarning: invalid value encountered in less_equal\n",
      "  condition = (xf >= v1) & (xf <= v2)\n"
     ]
    },
    {
     "data": {
      "image/png": "[encoded data removed]",
      "text/plain": [
       "<Figure size 432x288 with 1 Axes>"
      ]
     },
     "metadata": {},
     "output_type": "display_data"
    },
    {
     "data": {
      "text/html": [
       "<div>\n",
       "<style scoped>\n",
       "    .dataframe tbody tr th:only-of-type {\n",
       "        vertical-align: middle;\n",
       "    }\n",
       "\n",
       "    .dataframe tbody tr th {\n",
       "        vertical-align: top;\n",
       "    }\n",
       "\n",
       "    .dataframe thead th {\n",
       "        text-align: right;\n",
       "    }\n",
       "</style>\n",
       "<table border=\"1\" class=\"dataframe\">\n",
       "  <thead>\n",
       "    <tr style=\"text-align: right;\">\n",
       "      <th></th>\n",
       "      <th>country_code</th>\n",
       "      <th>min</th>\n",
       "      <th>max</th>\n",
       "      <th>sum</th>\n",
       "      <th>mean</th>\n",
       "      <th>count</th>\n",
       "      <th>Country</th>\n",
       "    </tr>\n",
       "  </thead>\n",
       "  <tbody>\n",
       "    <tr>\n",
       "      <th>0</th>\n",
       "      <td>USA</td>\n",
       "      <td>0</td>\n",
       "      <td>17600000000</td>\n",
       "      <td>422510842796</td>\n",
       "      <td>1.169127e+07</td>\n",
       "      <td>36139</td>\n",
       "      <td>United States</td>\n",
       "    </tr>\n",
       "    <tr>\n",
       "      <th>1</th>\n",
       "      <td>GBR</td>\n",
       "      <td>0</td>\n",
       "      <td>915000000</td>\n",
       "      <td>20245627416</td>\n",
       "      <td>9.851887e+06</td>\n",
       "      <td>2055</td>\n",
       "      <td>United Kingdom</td>\n",
       "    </tr>\n",
       "    <tr>\n",
       "      <th>2</th>\n",
       "      <td>CAN</td>\n",
       "      <td>4697</td>\n",
       "      <td>165000000</td>\n",
       "      <td>9583332317</td>\n",
       "      <td>7.630042e+06</td>\n",
       "      <td>1256</td>\n",
       "      <td>Canada</td>\n",
       "    </tr>\n",
       "  </tbody>\n",
       "</table>\n",
       "</div>"
      ],
      "text/plain": [
       "  country_code   min          max           sum          mean  count  \\\n",
       "0          USA     0  17600000000  422510842796  1.169127e+07  36139   \n",
       "1          GBR     0    915000000   20245627416  9.851887e+06   2055   \n",
       "2          CAN  4697    165000000    9583332317  7.630042e+06   1256   \n",
       "\n",
       "          Country  \n",
       "0   United States  \n",
       "1  United Kingdom  \n",
       "2          Canada  "
      ]
     },
     "execution_count": 307,
     "metadata": {},
     "output_type": "execute_result"
    }
   ],
   "source": [
    "# Country Analysis\n",
    "given_funding_type = 'venture'  \n",
    "top9 = master_frame[master_frame['funding_round_type']== given_funding_type].groupby(['country_code'])['raised_amount_usd'].agg([min, max, sum, np.mean, 'count']).sort_values(by='sum', ascending=False).head(9).reset_index()\n",
    "top3_english_speaking_frame = top9.merge(get_english_speaking_countries(), how='inner', on='country_code').head(3)\n",
    "plt.yscale('symlog')\n",
    "ax = sns.barplot(y='sum', \n",
    "                x='country_code',\n",
    "                data = top9)\n",
    "ax.set(xlabel='Countries', ylabel=\"Total Amount Invested(in dollar)\")\n",
    "plt.title('FT = '+ given_funding_type)\n",
    "plt.show()\n",
    "# TODO: remove NAN from the values of master_frame\n",
    "top_ctry = top3_english_speaking_frame['country_code'][0]\n",
    "second_top_ctry = top3_english_speaking_frame['country_code'][1]\n",
    "third_top_ctry = top3_english_speaking_frame['country_code'][2]\n",
    "top3_english_speaking_frame"
   ]
  },
  {
   "cell_type": "code",
   "execution_count": 151,
   "metadata": {},
   "outputs": [],
   "source": [
    "# Fetch mapping tables and remove unnecessary columns\n",
    "mapping = pd.read_csv('mapping.csv', encoding='unicode_escape')\n",
    "mapping['main_sector'] = mapping.iloc[:,1:].apply(lambda x: x.idxmax().strip(), axis=1)\n",
    "mapping_ops = mapping[['category_list', 'main_sector']]\n"
   ]
  },
  {
   "cell_type": "code",
   "execution_count": 308,
   "metadata": {
    "scrolled": true
   },
   "outputs": [
    {
     "name": "stdout",
     "output_type": "stream",
     "text": [
      "Top heavily invested company in D1 for top sector Others is Virtustream\n",
      "Top heavily invested company in D2 for top sector Others is Electric Cloud\n",
      "Top heavily invested company in D3 for top sector Cleantech / Semiconductors is EUSA Pharma\n",
      "Top heavily invested company in D1 for second top sector Cleantech / Semiconductors is Biodesix\n",
      "Top heavily invested company in D2 for second top sector Cleantech / Semiconductors is EUSA Pharma\n",
      "Top heavily invested company in D3 for second top sector Others is Fresco Microchip\n"
     ]
    },
    {
     "data": {
      "text/plain": [
       "<seaborn.axisgrid.FacetGrid at 0x2b898346cc0>"
      ]
     },
     "execution_count": 308,
     "metadata": {},
     "output_type": "execute_result"
    },
    {
     "data": {
      "image/png": "[encoded data removed]",
      "text/plain": [
       "<Figure size 604.8x288 with 3 Axes>"
      ]
     },
     "metadata": {},
     "output_type": "display_data"
    }
   ],
   "source": [
    "sector_analysis_frame = master_frame\n",
    "sector_analysis_frame['primary_sector'] = sector_analysis_frame['category_list'].apply(lambda x: str(x).split('|')[0])\n",
    "sector_analysis_frame = sector_analysis_frame.merge(mapping_ops, how = 'inner', left_on='primary_sector', right_on='category_list')\n",
    "sector_analysis_frame = sector_analysis_frame.drop(['category_list_y'], axis = 1)\n",
    "# filter for funding type FT and investment_range between (5000000, 15000000).\n",
    "sector_analysis_frame = sector_analysis_frame.loc[(sector_analysis_frame['funding_round_type'] == given_funding_type) & (sector_analysis_frame['raised_amount_usd'].between(5000000, 15000000))]\n",
    "D1 = sector_analysis_frame[(sector_analysis_frame['country_code'] == top_ctry)]\n",
    "D2 = sector_analysis_frame[(sector_analysis_frame['country_code'] == second_top_ctry)]\n",
    "D3 = sector_analysis_frame[(sector_analysis_frame['country_code'] == third_top_ctry)]\n",
    "D1_investment = D1.groupby('main_sector')['raised_amount_usd'].agg([sum,'count']).sort_values(by='count', ascending=False)\n",
    "top_sector_in_D1 = D1_investment.index[0]\n",
    "second_top_sector_in_D1 = D1_investment.index[1]\n",
    "total_no_of_investment_for_D1 = D1_investment.sum()\n",
    "D2_investment = D2.groupby('main_sector')['raised_amount_usd'].agg([sum,'count']).sort_values(by='count', ascending=False)\n",
    "total_no_of_investment_for_D2 = D2_investment.sum()\n",
    "top_sector_in_D2 = D2_investment.index[0]\n",
    "second_top_sector_in_D2 = D2_investment.index[1]\n",
    "D3_investment = D3.groupby('main_sector')['raised_amount_usd'].agg([sum,'count']).sort_values(by='count', ascending=False)\n",
    "total_no_of_investment_for_D3 = D3_investment.sum()\n",
    "top_sector_in_D3 = D3_investment.index[0]\n",
    "second_top_sector_in_D3 = D3_investment.index[1]\n",
    "\n",
    "print('Top heavily invested company in D1 for top sector '+ top_sector_in_D1 + ' is '+ D1[D1['main_sector']==top_sector_in_D1].groupby('name')['raised_amount_usd'].agg([sum,'count']).sort_values(by='sum', ascending=False).index[0])\n",
    "print('Top heavily invested company in D2 for top sector '+ top_sector_in_D2 +' is ' + D2[D2['main_sector']==top_sector_in_D2].groupby('name')['raised_amount_usd'].agg([sum,'count']).sort_values(by='sum', ascending=False).index[0])\n",
    "print('Top heavily invested company in D3 for top sector '+ top_sector_in_D3 + ' is ' + D2[D2['main_sector']==top_sector_in_D3].groupby('name')['raised_amount_usd'].agg([sum,'count']).sort_values(by='sum', ascending=False).index[0])\n",
    "\n",
    "print('Top heavily invested company in D1 for second top sector '+ second_top_sector_in_D1 + ' is '+ D1[D1['main_sector']==second_top_sector_in_D1].groupby('name')['raised_amount_usd'].agg([sum,'count']).sort_values(by='sum', ascending=False).index[0])\n",
    "print('Top heavily invested company in D2 for second top sector '+ second_top_sector_in_D2 + ' is '+ D2[D2['main_sector']==second_top_sector_in_D1].groupby('name')['raised_amount_usd'].agg([sum,'count']).sort_values(by='sum', ascending=False).index[0])\n",
    "print('Top heavily invested company in D3 for second top sector '+ second_top_sector_in_D3 + ' is '+ D3[D3['main_sector']==second_top_sector_in_D1].groupby('name')['raised_amount_usd'].agg([sum,'count']).sort_values(by='sum', ascending=False).index[0])\n",
    "\n",
    "sector_analysis_frame = sector_analysis_frame.loc[(sector_analysis_frame['country_code'].isin([top_ctry, second_top_ctry, third_top_ctry ])) & (sector_analysis_frame['main_sector'].isin([top_sector_in_D1, top_sector_in_D2, top_sector_in_D3]))]\n",
    "sector_analysis_frame = sector_analysis_frame.groupby(['country_code', 'main_sector'])['raised_amount_usd'].agg(['count']).sort_values(['country_code','count'], ascending=False).reset_index()\n",
    "g = sns.catplot(x=\"main_sector\", y=\"count\", col=\"country_code\",data=sector_analysis_frame, kind=\"bar\",height=4, aspect=.7)\n",
    "(g.set_axis_labels(\"\", \"No of Investment\")\n",
    ".set_titles(\"{col_name}\")\n",
    ".despine(left=True))\n",
    "(g.set_xticklabels(rotation=45))"
   ]
  },
  {
   "cell_type": "code",
   "execution_count": null,
   "metadata": {},
   "outputs": [],
   "source": []
  }
 ],
 "metadata": {
  "kernelspec": {
   "display_name": "Python 3",
   "language": "python",
   "name": "python3"
  },
  "language_info": {
   "codemirror_mode": {
    "name": "ipython",
    "version": 3
   },
   "file_extension": ".py",
   "mimetype": "text/x-python",
   "name": "python",
   "nbconvert_exporter": "python",
   "pygments_lexer": "ipython3",
   "version": "3.7.3"
  }
 },
 "nbformat": 4,
 "nbformat_minor": 2
}
