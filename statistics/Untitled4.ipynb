{
 "cells": [
  {
   "cell_type": "code",
   "execution_count": 27,
   "metadata": {},
   "outputs": [
    {
     "name": "stdout",
     "output_type": "stream",
     "text": [
      "valid\n"
     ]
    }
   ],
   "source": [
    "import re\n",
    "mail_checking_regex = '[A-Z0-9]*@\\w+([\\.-]?\\w+)*(\\.\\w{2,3})+$'\n",
    "\n",
    "def checkmail(email):\n",
    "    status = \"invalid\"\n",
    "    if re.search(mail_checking_regex, email):\n",
    "        status = \"valid\"\n",
    "    return status\n",
    "\n",
    "print(checkmail(\"a_szsr@gmail.com\"))"
   ]
  },
  {
   "cell_type": "code",
   "execution_count": 34,
   "metadata": {},
   "outputs": [
    {
     "name": "stdout",
     "output_type": "stream",
     "text": [
      "[1, 2, [9, 8, 7], 3, 4, 5]\n"
     ]
    }
   ],
   "source": [
    "#flatten the list\n",
    "input_list = [[1,2], [[9,8,7]],[3,4 ,5]]\n",
    "flat_list = [item for level1 in input_list for item in level1]\n",
    "print(flat_list)"
   ]
  },
  {
   "cell_type": "code",
   "execution_count": 43,
   "metadata": {},
   "outputs": [
    {
     "name": "stdout",
     "output_type": "stream",
     "text": [
      "[1, 2, 9, 4, 5, 36]\n"
     ]
    },
    {
     "data": {
      "text/plain": [
       "'3'"
      ]
     },
     "execution_count": 43,
     "metadata": {},
     "output_type": "execute_result"
    }
   ],
   "source": [
    "# no divisible by 3\n",
    "input_list = [1,2,3,4,5,6]\n",
    "result = list(map(lambda x : x * x if x%3 == 0 else x ,input_list))\n",
    "print(result)\n",
    "\n",
    "'3' *  1"
   ]
  },
  {
   "cell_type": "code",
   "execution_count": 47,
   "metadata": {},
   "outputs": [
    {
     "name": "stdout",
     "output_type": "stream",
     "text": [
      "11106\n"
     ]
    }
   ],
   "source": [
    "#n=9 , then you have to find the value of 9+99+999+9999.\n",
    "from functools import reduce\n",
    "input = 9\n",
    "print(reduce(lambda x, y : int(x) + int(y), [str(input) * power for power in range(1, 5)]))\n"
   ]
  },
  {
   "cell_type": "code",
   "execution_count": 94,
   "metadata": {},
   "outputs": [
    {
     "name": "stdout",
     "output_type": "stream",
     "text": [
      "{'b': 9, 'd': 2, 'a': 7, 'c': 4}\n"
     ]
    },
    {
     "data": {
      "text/plain": [
       "['a', 'b', 'c']"
      ]
     },
     "execution_count": 94,
     "metadata": {},
     "output_type": "execute_result"
    }
   ],
   "source": [
    "input = \"bbbbbbbbddaaaaaaaccccb\"\n",
    "import pandas as pd\n",
    "import numpy as np\n",
    "\n",
    "dict = {}\n",
    "for val in input:\n",
    "    if(dict.get(val)):\n",
    "        dict[val] = dict.get(val) + 1\n",
    "    else:\n",
    "        dict[val] = 1\n",
    "print(dict)\n",
    "df = pd.DataFrame.from_dict(dict, orient='index', columns=['Char'])\n",
    "df = df.sort_values(by='Char', ascending=False).head(3).reset_index().sort_values(by='index')\n",
    "df['index'].tolist()"
   ]
  },
  {
   "cell_type": "code",
   "execution_count": 118,
   "metadata": {},
   "outputs": [
    {
     "data": {
      "text/plain": [
       "array([[0. , 0.5, 1. , 1.5],\n",
       "       [0.5, 1. , 1.5, 2. ],\n",
       "       [1. , 1.5, 2. , 2.5]])"
      ]
     },
     "execution_count": 118,
     "metadata": {},
     "output_type": "execute_result"
    }
   ],
   "source": [
    "import numpy as np\n",
    "a = 3\n",
    "b = 4\n",
    "# Reshape a 1-D array to a 3 x 4 array\n",
    "array = np.arange(0, a*b).reshape(a, b)\n",
    "res = []\n",
    "for i in range(0, a):\n",
    "    for j in range (0, b):\n",
    "        res.append((i + j) / 2)\n",
    "    \n",
    "res = np.array(res).reshape(a, b)\n",
    "res\n",
    "    "
   ]
  },
  {
   "cell_type": "code",
   "execution_count": 141,
   "metadata": {},
   "outputs": [
    {
     "name": "stdout",
     "output_type": "stream",
     "text": [
      "valid\n"
     ]
    }
   ],
   "source": [
    "import re\n",
    "mail_checking_regex = '^\\w+([\\.]?\\w+)*@\\w+([\\.]?\\w+)*(\\.\\w{2,3})+$'\n",
    "\n",
    "def checkmail(email):\n",
    "    status = \"invalid\"\n",
    "    if re.search(mail_checking_regex, email):\n",
    "        status = \"valid\"\n",
    "    return status\n",
    "\n",
    "print(checkmail(\"sourabh@gmail.co\"))"
   ]
  },
  {
   "cell_type": "code",
   "execution_count": null,
   "metadata": {},
   "outputs": [],
   "source": []
  }
 ],
 "metadata": {
  "kernelspec": {
   "display_name": "Python 2",
   "language": "python",
   "name": "python2"
  },
  "language_info": {
   "codemirror_mode": {
    "name": "ipython",
    "version": 2
   },
   "file_extension": ".py",
   "mimetype": "text/x-python",
   "name": "python",
   "nbconvert_exporter": "python",
   "pygments_lexer": "ipython2",
   "version": "2.7.17"
  }
 },
 "nbformat": 4,
 "nbformat_minor": 2
}
