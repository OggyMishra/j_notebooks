{
 "cells": [
  {
   "cell_type": "code",
   "execution_count": null,
   "metadata": {},
   "outputs": [],
   "source": [
    "# EDA:\n",
    "# course path::\n",
    "\n",
    "# 1) Sourcing\n",
    "# 2) Cleaning\n",
    "# 3) Univariate Analysis\n",
    "# 4) Bi-Variate Analysis\n",
    "# 5) Derive Metrics: you can create new columns from the exisiting data. For e.g student who cleared the JEE exam, create a new column for it.\n",
    "\n",
    "# To solve a busniess problem you need to have historical data.\n",
    "# Typicall data comes from various sources, your first job at hand is to procure the data from private and public sources.\n",
    "# There are two kinds of data\n",
    "# 1) Public Data:\n",
    "# A large amount of data collected by the government or other public agencies is made public for the purposes of research. Such data sets do not require special permission for access and are therefore called public data.\n",
    "\n",
    "# 2) Private Data:\n",
    "# On the other hand, private data is that which is sensitive to organisations and is thus not available in the public domain. Banking, telecom, retail, and media are some of the key private sectors that rely heavily on data to make decisions.\n",
    "\n"
   ]
  }
 ],
 "metadata": {
  "kernelspec": {
   "display_name": "Python 3",
   "language": "python",
   "name": "python3"
  },
  "language_info": {
   "codemirror_mode": {
    "name": "ipython",
    "version": 3
   },
   "file_extension": ".py",
   "mimetype": "text/x-python",
   "name": "python",
   "nbconvert_exporter": "python",
   "pygments_lexer": "ipython3",
   "version": "3.7.3"
  }
 },
 "nbformat": 4,
 "nbformat_minor": 2
}
