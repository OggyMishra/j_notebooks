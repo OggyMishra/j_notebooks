{
 "cells": [
  {
   "cell_type": "code",
   "execution_count": 15,
   "metadata": {},
   "outputs": [
    {
     "name": "stdout",
     "output_type": "stream",
     "text": [
      "2.3480000000000003\n",
      "0.42698851497340273\n",
      "0.4248482081873478\n"
     ]
    }
   ],
   "source": [
    "# Centeral Limit theorem:\n",
    "\n",
    "import pandas as pd\n",
    "import math\n",
    "data =  pd.read_csv('Inferntial Statistics - UpGrad Samples.csv')\n",
    "mean = (data['Sample Mean'].mean())\n",
    "print(mean)\n",
    "print(data['Sample Mean'].std())\n",
    "data['Xi - x^'] = (data['Sample Mean'] - mean)\n",
    "data['square'] = data['Xi - x^'] * data['Xi - x^']\n",
    "std_dev =  math.sqrt(data['square'].sum() / 100)\n",
    "print(std_dev)\n",
    "\n"
   ]
  },
  {
   "cell_type": "code",
   "execution_count": 12,
   "metadata": {},
   "outputs": [
    {
     "data": {
      "text/html": [
       "<div>\n",
       "<style scoped>\n",
       "    .dataframe tbody tr th:only-of-type {\n",
       "        vertical-align: middle;\n",
       "    }\n",
       "\n",
       "    .dataframe tbody tr th {\n",
       "        vertical-align: top;\n",
       "    }\n",
       "\n",
       "    .dataframe thead th {\n",
       "        text-align: right;\n",
       "    }\n",
       "</style>\n",
       "<table border=\"1\" class=\"dataframe\">\n",
       "  <thead>\n",
       "    <tr style=\"text-align: right;\">\n",
       "      <th></th>\n",
       "      <th>Sample No.</th>\n",
       "      <th>Sample Mean</th>\n",
       "      <th>Xi - x^</th>\n",
       "      <th>square</th>\n",
       "    </tr>\n",
       "  </thead>\n",
       "  <tbody>\n",
       "    <tr>\n",
       "      <th>0</th>\n",
       "      <td>1</td>\n",
       "      <td>3.2</td>\n",
       "      <td>0.852</td>\n",
       "      <td>0.725904</td>\n",
       "    </tr>\n",
       "    <tr>\n",
       "      <th>1</th>\n",
       "      <td>2</td>\n",
       "      <td>2.6</td>\n",
       "      <td>0.252</td>\n",
       "      <td>0.063504</td>\n",
       "    </tr>\n",
       "    <tr>\n",
       "      <th>2</th>\n",
       "      <td>3</td>\n",
       "      <td>2.8</td>\n",
       "      <td>0.452</td>\n",
       "      <td>0.204304</td>\n",
       "    </tr>\n",
       "    <tr>\n",
       "      <th>3</th>\n",
       "      <td>4</td>\n",
       "      <td>2.0</td>\n",
       "      <td>-0.348</td>\n",
       "      <td>0.121104</td>\n",
       "    </tr>\n",
       "    <tr>\n",
       "      <th>4</th>\n",
       "      <td>5</td>\n",
       "      <td>3.0</td>\n",
       "      <td>0.652</td>\n",
       "      <td>0.425104</td>\n",
       "    </tr>\n",
       "  </tbody>\n",
       "</table>\n",
       "</div>"
      ],
      "text/plain": [
       "   Sample No.  Sample Mean  Xi - x^    square\n",
       "0           1          3.2    0.852  0.725904\n",
       "1           2          2.6    0.252  0.063504\n",
       "2           3          2.8    0.452  0.204304\n",
       "3           4          2.0   -0.348  0.121104\n",
       "4           5          3.0    0.652  0.425104"
      ]
     },
     "execution_count": 12,
     "metadata": {},
     "output_type": "execute_result"
    }
   ],
   "source": [
    "data.head()"
   ]
  },
  {
   "cell_type": "code",
   "execution_count": 20,
   "metadata": {},
   "outputs": [
    {
     "data": {
      "text/plain": [
       "S. No.          200\n",
       "Monthly Rent    200\n",
       "dtype: int64"
      ]
     },
     "execution_count": 20,
     "metadata": {},
     "output_type": "execute_result"
    }
   ],
   "source": [
    "data = pd.read_csv('Inferential Statistics - Powai Flats Rent.csv')\n",
    "data.head()\n",
    "data.count()"
   ]
  },
  {
   "cell_type": "code",
   "execution_count": 24,
   "metadata": {},
   "outputs": [
    {
     "name": "stdout",
     "output_type": "stream",
     "text": [
      "7457.521851178448\n",
      "45571.0\n"
     ]
    }
   ],
   "source": [
    "mean = data['Monthly Rent'].mean()\n",
    "data['xi-x^'] = data['Monthly Rent'] - mean\n",
    "data['square'] = data['xi-x^'] * data['xi-x^']\n",
    "sd = math.sqrt(data['square'].sum()/199)\n",
    "print(sd)\n",
    "print(mean)"
   ]
  },
  {
   "cell_type": "code",
   "execution_count": 25,
   "metadata": {},
   "outputs": [
    {
     "name": "stdout",
     "output_type": "stream",
     "text": [
      "44700.911395150506\n",
      "46441.088604849494\n"
     ]
    }
   ],
   "source": [
    "# 90% confidence interval \n",
    "neg_interval = mean - (1.65 * sd)/ math.sqrt(200)\n",
    "print(neg_interval)\n",
    "pos_interval = mean + (1.65 * sd)/ math.sqrt(200)\n",
    "print(pos_interval)"
   ]
  },
  {
   "cell_type": "code",
   "execution_count": 26,
   "metadata": {},
   "outputs": [
    {
     "name": "stdout",
     "output_type": "stream",
     "text": [
      "44210.49781787169\n",
      "46931.50218212831\n"
     ]
    }
   ],
   "source": [
    "# 99% confidence interval\n",
    "neg_interval = mean - (2.58 * sd)/ math.sqrt(200)\n",
    "print(neg_interval)\n",
    "pos_interval = mean + (2.58 * sd)/ math.sqrt(200)\n",
    "print(pos_interval)"
   ]
  },
  {
   "cell_type": "code",
   "execution_count": 97,
   "metadata": {},
   "outputs": [
    {
     "name": "stdout",
     "output_type": "stream",
     "text": [
      "44537.44020272423\n",
      "46604.55979727577\n",
      "1\n"
     ]
    }
   ],
   "source": [
    "# 95% confidence interval\n",
    "neg_interval = mean - (1.96 * sd)/ math.sqrt(200)\n",
    "print(neg_interval)\n",
    "pos_interval = mean + (1.96 * sd)/ math.sqrt(200)\n",
    "print(pos_interval)\n",
    "# ₹46,500 find closeness with it.\n",
    "for j in range(1, 2):\n",
    "    print(str(j))\n",
    "    "
   ]
  },
  {
   "cell_type": "code",
   "execution_count": 140,
   "metadata": {},
   "outputs": [
    {
     "name": "stdout",
     "output_type": "stream",
     "text": [
      "value of i1\n",
      "1\n",
      "value of i2\n",
      "121\n",
      "value of i3\n",
      "12321\n",
      "value of i4\n",
      "1234321\n"
     ]
    }
   ],
   "source": [
    "# Graded questions:\n",
    "n = 4\n",
    "k = 1\n",
    "for i in range(1, n + 1):\n",
    "    print(int('1' * i) ** 2) "
   ]
  },
  {
   "cell_type": "code",
   "execution_count": 41,
   "metadata": {},
   "outputs": [
    {
     "name": "stdout",
     "output_type": "stream",
     "text": [
      "range(1, 5)\n"
     ]
    }
   ],
   "source": [
    "n = 5\n",
    "k = range(1, n)\n",
    "print(k)"
   ]
  },
  {
   "cell_type": "code",
   "execution_count": 142,
   "metadata": {},
   "outputs": [
    {
     "name": "stdout",
     "output_type": "stream",
     "text": [
      "[3 4 4 3 3 4 3 5 6 3]\n"
     ]
    }
   ],
   "source": [
    "import numpy as np\n",
    "n, p = 8, .4 # number of trials, probability of each trial\n",
    "np.random.seed(0)\n",
    "s = np.random.binomial(n, p, 10)\n",
    "print(s)"
   ]
  },
  {
   "cell_type": "code",
   "execution_count": 120,
   "metadata": {},
   "outputs": [
    {
     "name": "stdout",
     "output_type": "stream",
     "text": [
      "0.9758029275480856\n"
     ]
    }
   ],
   "source": [
    "import math\n",
    "x = 90\n",
    "sd = 10\n",
    "mean = 100\n",
    "var = float(sd)**2\n",
    "denom = (2*math.pi*var)**.5\n",
    "num = math.exp(-(float(x)-float(mean))**2/(2*var))\n",
    "print(1 - num/denom)"
   ]
  },
  {
   "cell_type": "code",
   "execution_count": 121,
   "metadata": {},
   "outputs": [],
   "source": [
    "import scipy.stats"
   ]
  },
  {
   "cell_type": "code",
   "execution_count": 125,
   "metadata": {},
   "outputs": [
    {
     "data": {
      "text/plain": [
       "0.84"
      ]
     },
     "execution_count": 125,
     "metadata": {},
     "output_type": "execute_result"
    }
   ],
   "source": [
    "round(1 - scipy.stats.norm(100, 10).cdf(90), 2)"
   ]
  },
  {
   "cell_type": "code",
   "execution_count": 138,
   "metadata": {},
   "outputs": [
    {
     "name": "stdout",
     "output_type": "stream",
     "text": [
      "0.8571428571428572\n"
     ]
    }
   ],
   "source": [
    "n = 15\n",
    "total_perm = math.factorial(n - 1)\n",
    "together = math.factorial(n - 2) * 2\n",
    "print(1 - together/total_perm)"
   ]
  },
  {
   "cell_type": "code",
   "execution_count": null,
   "metadata": {},
   "outputs": [],
   "source": []
  }
 ],
 "metadata": {
  "kernelspec": {
   "display_name": "Python 3",
   "language": "python",
   "name": "python3"
  },
  "language_info": {
   "codemirror_mode": {
    "name": "ipython",
    "version": 3
   },
   "file_extension": ".py",
   "mimetype": "text/x-python",
   "name": "python",
   "nbconvert_exporter": "python",
   "pygments_lexer": "ipython3",
   "version": "3.7.3"
  }
 },
 "nbformat": 4,
 "nbformat_minor": 2
}
