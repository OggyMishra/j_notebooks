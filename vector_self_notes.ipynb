{
 "cells": [
  {
   "cell_type": "code",
   "execution_count": 17,
   "metadata": {},
   "outputs": [
    {
     "name": "stdout",
     "output_type": "stream",
     "text": [
      "90.0\n",
      "18.434948822922017\n",
      "39.23152048359225\n",
      "90.0\n",
      "65.90515744788931\n",
      "35.26438968275467\n"
     ]
    }
   ],
   "source": [
    "from functools import reduce\n",
    "import numpy as np\n",
    "import math as m\n",
    "pi = m.pi\n",
    "a1 = np.array([2, 1, 0 ,0])\n",
    "a2 = np.array([0, 0, 1 ,1])\n",
    "a3 = np.array([1,1,0,0])\n",
    "a4 = np.array([1,1,1,0])\n",
    "\n",
    "angle_a1_a2 = np.arccos( reduce(lambda x, y: x+y, a1 * a2) / (np.sqrt(reduce(lambda x, y: x + y , map(lambda k: k ** 2, a1))) * np.sqrt(reduce(lambda x, y: x + y , map(lambda k: k ** 2, a2))))) * 180/pi\n",
    "angle_a1_a3 = np.arccos( reduce(lambda x, y: x+y, a1 * a3) / (np.sqrt(reduce(lambda x, y: x + y , map(lambda k: k ** 2, a1))) * np.sqrt(reduce(lambda x, y: x + y , map(lambda k: k ** 2, a3))))) * 180/pi\n",
    "angle_a1_a4 = np.arccos( reduce(lambda x, y: x+y, a1 * a4) / (np.sqrt(reduce(lambda x, y: x + y , map(lambda k: k ** 2, a1))) * np.sqrt(reduce(lambda x, y: x + y , map(lambda k: k ** 2, a4))))) * 180/pi\n",
    "angle_a2_a3 = np.arccos( reduce(lambda x, y: x+y, a2 * a3) / (np.sqrt(reduce(lambda x, y: x + y , map(lambda k: k ** 2, a2))) * np.sqrt(reduce(lambda x, y: x + y , map(lambda k: k ** 2, a3))))) * 180/pi\n",
    "angle_a2_a4 = np.arccos( reduce(lambda x, y: x+y, a2 * a4) / (np.sqrt(reduce(lambda x, y: x + y , map(lambda k: k ** 2, a2))) * np.sqrt(reduce(lambda x, y: x + y , map(lambda k: k ** 2, a4))))) * 180/pi\n",
    "angle_a3_a4 = np.arccos( reduce(lambda x, y: x+y, a3 * a4) / (np.sqrt(reduce(lambda x, y: x + y , map(lambda k: k ** 2, a3))) * np.sqrt(reduce(lambda x, y: x + y , map(lambda k: k ** 2, a4))))) * 180/pi\n",
    "\n",
    "print(angle_a1_a2)\n",
    "print(angle_a1_a3)\n",
    "print(angle_a1_a4)\n",
    "print(angle_a2_a3)\n",
    "print(angle_a2_a4)\n",
    "print(angle_a3_a4)"
   ]
  },
  {
   "cell_type": "code",
   "execution_count": 18,
   "metadata": {},
   "outputs": [],
   "source": [
    "# Span of a vector: set of all the vectors.\n",
    "# span(v1, v2, v3....vn) = {c1v1,+c2v2.... CnVn| Ci belongs to R}\n",
    "\n",
    "\n"
   ]
  },
  {
   "cell_type": "code",
   "execution_count": 19,
   "metadata": {},
   "outputs": [
    {
     "name": "stdout",
     "output_type": "stream",
     "text": [
      "[[11 22]\n",
      " [33 44]\n",
      " [55 66]]\n",
      "<class 'numpy.ndarray'>\n"
     ]
    }
   ],
   "source": [
    "# Two dimensional numpy array declaration\n",
    "from numpy import array\n",
    "data = [[11, 22],\n",
    "       [33, 44],\n",
    "       [55, 66]]\n",
    "data = array(data)\n",
    "print(data)\n",
    "print(type(data))"
   ]
  },
  {
   "cell_type": "code",
   "execution_count": 29,
   "metadata": {},
   "outputs": [
    {
     "name": "stdout",
     "output_type": "stream",
     "text": [
      "11\n",
      "44\n",
      "[33 44 55]\n"
     ]
    }
   ],
   "source": [
    "# numpy array indexing\n",
    "# 1. One dimensional indexing.\n",
    "data = array([11, 22, 33, 44, 55])\n",
    "print(data[0])\n",
    "print(data[3])\n",
    "print(data[-3:])"
   ]
  },
  {
   "cell_type": "code",
   "execution_count": 37,
   "metadata": {},
   "outputs": [
    {
     "name": "stdout",
     "output_type": "stream",
     "text": [
      "11\n",
      "22\n"
     ]
    }
   ],
   "source": [
    "# Two dimensional indexing\n",
    "data = array([\n",
    "    [11,22],\n",
    "    [33,44],\n",
    "    [55, 66]\n",
    "])\n",
    "print(data[0,0])\n",
    "print(data[0,1])"
   ]
  },
  {
   "cell_type": "code",
   "execution_count": 46,
   "metadata": {},
   "outputs": [
    {
     "name": "stdout",
     "output_type": "stream",
     "text": [
      "[33]\n"
     ]
    }
   ],
   "source": [
    "# Array slicing\n",
    "# 1. One dimensional slicing\n",
    "data = array([11, 22, 33, 44, 55])\n",
    "print(data[-3:-2])"
   ]
  },
  {
   "cell_type": "code",
   "execution_count": 50,
   "metadata": {},
   "outputs": [
    {
     "name": "stdout",
     "output_type": "stream",
     "text": [
      "[[55]\n",
      " [88]]\n",
      "[33 66 99]\n",
      "[[11 22]\n",
      " [44 55]\n",
      " [77 88]]\n"
     ]
    }
   ],
   "source": [
    "# Two dimensional slicing\n",
    "data = array([\n",
    "    [11, 22, 33],\n",
    "    [44, 55, 66],\n",
    "    [77, 88, 99]\n",
    "])\n",
    "X, Y = data[:,-1], data[:,:-1]\n",
    "print(data[1:, 1:2])\n",
    "\n",
    "print(X) \n",
    "print(Y)"
   ]
  },
  {
   "cell_type": "code",
   "execution_count": 66,
   "metadata": {},
   "outputs": [
    {
     "name": "stdout",
     "output_type": "stream",
     "text": [
      "[[12 -4]\n",
      " [ 0 -9]]\n"
     ]
    }
   ],
   "source": [
    "# Matrix \n",
    "# Diagnoal matrix: whose non-diagnoal elements are zero.\n",
    "# Identity matrix: whose non-diagnonal elements are 0 and diagnoal \n",
    "# Matrix addition: \n",
    "    # Not all matrix can be added together , Only those matrix that have same dimensions are able to be added together.\n",
    "    # The resultant of the matrix addition are always equals to the dimension of the child components.\n",
    "A = array([\n",
    "    [3,2],\n",
    "    [0,3]\n",
    "])\n",
    "\n",
    "B = array([\n",
    "    [4, -2],\n",
    "    [2, -3]\n",
    "])\n",
    "res = A * B\n",
    "print(res)\n",
    "    \n",
    " \n",
    "    "
   ]
  },
  {
   "cell_type": "code",
   "execution_count": 67,
   "metadata": {},
   "outputs": [
    {
     "name": "stdout",
     "output_type": "stream",
     "text": [
      "[[12 -4]\n",
      " [ 0 -9]]\n",
      "[[ 16 -12]\n",
      " [  6  -9]]\n"
     ]
    }
   ],
   "source": [
    "# Hadamard Product is the element by element multiplcation among two metrics.\n",
    "\n",
    "K = array([\n",
    "    [3,2],\n",
    "    [0,3]\n",
    "])\n",
    "\n",
    "J = array([\n",
    "    [4, -2],\n",
    "    [2, -3]\n",
    "])\n",
    "\n",
    "mul = K * J\n",
    "print(mul)\n",
    "# Whereas  Matrix multiplication of two matrix A and B is only possible when no of columns in A should be equal to the number of row in B. In other words if you have two matrics A and B with the dimensions $\\(a_1, a_2) , (b_1, b_2)$\n",
    "mul = K.dot(J)\n",
    "print(mul)"
   ]
  },
  {
   "cell_type": "code",
   "execution_count": 75,
   "metadata": {},
   "outputs": [
    {
     "name": "stdout",
     "output_type": "stream",
     "text": [
      "[[12  6]\n",
      " [ 2 -5]]\n"
     ]
    }
   ],
   "source": [
    "# Transponse of matrix:\n",
    "KT = K.T\n",
    "JT = J.T\n",
    "\n",
    "transpose_KJ = KT.dot(JT)\n",
    "print(transpose_KJ)\n",
    "\n"
   ]
  },
  {
   "cell_type": "code",
   "execution_count": 76,
   "metadata": {},
   "outputs": [
    {
     "ename": "TypeError",
     "evalue": "list indices must be integers or slices, not tuple",
     "output_type": "error",
     "traceback": [
      "\u001b[1;31m---------------------------------------------------------------------------\u001b[0m",
      "\u001b[1;31mTypeError\u001b[0m                                 Traceback (most recent call last)",
      "\u001b[1;32m<ipython-input-76-38493642bc3f>\u001b[0m in \u001b[0;36m<module>\u001b[1;34m\u001b[0m\n\u001b[0;32m      9\u001b[0m B = array([\n\u001b[0;32m     10\u001b[0m     \u001b[1;33m[\u001b[0m\u001b[1;36m4\u001b[0m\u001b[1;33m,\u001b[0m \u001b[1;36m5\u001b[0m\u001b[1;33m,\u001b[0m \u001b[1;36m6\u001b[0m\u001b[1;33m]\u001b[0m\u001b[1;33m\u001b[0m\u001b[1;33m\u001b[0m\u001b[0m\n\u001b[1;32m---> 11\u001b[1;33m     \u001b[1;33m[\u001b[0m\u001b[1;36m7\u001b[0m\u001b[1;33m,\u001b[0m \u001b[1;36m8\u001b[0m\u001b[1;33m,\u001b[0m \u001b[1;36m9\u001b[0m\u001b[1;33m]\u001b[0m\u001b[1;33m\u001b[0m\u001b[1;33m\u001b[0m\u001b[0m\n\u001b[0m\u001b[0;32m     12\u001b[0m ])\n\u001b[0;32m     13\u001b[0m \u001b[1;33m\u001b[0m\u001b[0m\n",
      "\u001b[1;31mTypeError\u001b[0m: list indices must be integers or slices, not tuple"
     ]
    }
   ],
   "source": [
    "# what is not allowed ??:\n",
    "# 3 X 3 matrix\n",
    "A = array([\n",
    "    [2, 3, 4],\n",
    "    [4, 5, 6],\n",
    "    [9 , 8, 9]\n",
    "])\n",
    "# 2 X 3 matrix\n",
    "B = array([\n",
    "    [4, 5, 6]\n",
    "    [7, 8, 9]\n",
    "])\n",
    "\n",
    "res = A* B\n",
    "# or \n",
    "res = A.dot(B)\n"
   ]
  },
  {
   "cell_type": "code",
   "execution_count": 86,
   "metadata": {},
   "outputs": [
    {
     "name": "stdout",
     "output_type": "stream",
     "text": [
      "[[ 0.14285714 -0.57142857  0.42857143]\n",
      " [ 0.92857143  0.78571429 -1.21428571]\n",
      " [-0.28571429  0.14285714  0.14285714]]\n",
      "(3, 3)\n",
      "Row: 3\n",
      "Col: 3\n"
     ]
    }
   ],
   "source": [
    "from numpy import linalg\n",
    "X = array([\n",
    "    [4, 2, 5],\n",
    "    [3, 2, 8],\n",
    "    [5, 2, 9]\n",
    "])\n",
    "inv_X = linalg.inv(X)\n",
    "print(inv_X)\n",
    "print(inv_X.shape)\n",
    "print('Row: %d' % data.shape[0])\n",
    "print('Col: %d' % data.shape[0])"
   ]
  },
  {
   "cell_type": "code",
   "execution_count": 91,
   "metadata": {},
   "outputs": [
    {
     "name": "stdout",
     "output_type": "stream",
     "text": [
      "[11 22 33 44 55]\n",
      "(5,)\n",
      "[[11]\n",
      " [22]\n",
      " [33]\n",
      " [44]\n",
      " [55]]\n",
      "(5, 1)\n"
     ]
    }
   ],
   "source": [
    "# reshaping Array\n",
    "# reshape 1D to 2D array\n",
    "\n",
    "data = array([11, 22, 33, 44, 55])\n",
    "print(data)\n",
    "print(data.shape)\n",
    "\n",
    "data = data.reshape((data.shape[0], 1))\n",
    "print(data)\n",
    "print(data.shape)"
   ]
  },
  {
   "cell_type": "code",
   "execution_count": 94,
   "metadata": {},
   "outputs": [
    {
     "name": "stdout",
     "output_type": "stream",
     "text": [
      "(3, 3)\n",
      "[[[11]\n",
      "  [22]\n",
      "  [33]]\n",
      "\n",
      " [[44]\n",
      "  [55]\n",
      "  [66]]\n",
      "\n",
      " [[55]\n",
      "  [66]\n",
      "  [77]]]\n",
      "(3, 3, 1)\n"
     ]
    }
   ],
   "source": [
    "# 2D to 3 D array:\n",
    "data = array([\n",
    "    [11, 22, 33],\n",
    "    [44, 55, 66],\n",
    "    [55, 66, 77]\n",
    "])\n",
    "print(data.shape)\n",
    "data = data.reshape(data.shape[0], data.shape[1], 1)\n",
    "print(data)\n",
    "print(data.shape)"
   ]
  },
  {
   "cell_type": "code",
   "execution_count": 95,
   "metadata": {},
   "outputs": [
    {
     "name": "stdout",
     "output_type": "stream",
     "text": [
      "[10 11 12]\n",
      "(3,)\n"
     ]
    }
   ],
   "source": [
    "# Array broadcasting.\n",
    "# To allow array arithmatic between arrays with a different shape or size. It solve the problem of airthmatic between arrays of differing shapes by in effect replicating the smaller array along the last mismatched dimension.\n",
    "# Broadcasting with scalar and One dimension array.\n",
    "a = array([1, 2, 3])\n",
    "b = 9\n",
    "c = a + b\n",
    "print(c)\n",
    "print(c.shape)\n"
   ]
  },
  {
   "cell_type": "code",
   "execution_count": 96,
   "metadata": {},
   "outputs": [
    {
     "name": "stdout",
     "output_type": "stream",
     "text": [
      "[[10 11 12]\n",
      " [13 14 15]\n",
      " [16 17 18]]\n",
      "(3, 3)\n"
     ]
    }
   ],
   "source": [
    "# Broadcasting with scalar and two dimension array\n",
    "A = array([\n",
    "    [1, 2, 3],\n",
    "    [4, 5, 6],\n",
    "    [7, 8, 9]\n",
    "])\n",
    "\n",
    "b = 9\n",
    "res = A + b\n",
    "print(res)\n",
    "print(res.shape)"
   ]
  },
  {
   "cell_type": "code",
   "execution_count": 97,
   "metadata": {},
   "outputs": [],
   "source": [
    "# errors and exceptions"
   ]
  },
  {
   "cell_type": "code",
   "execution_count": 103,
   "metadata": {},
   "outputs": [
    {
     "name": "stdout",
     "output_type": "stream",
     "text": [
      "(3,)\n",
      "[[ 3  6  9]\n",
      " [ 6  9 12]\n",
      " [ 9 12 15]]\n",
      "(3, 3)\n"
     ]
    }
   ],
   "source": [
    "b = array([2, 4, 6])\n",
    "print(b.shape)\n",
    "res = A + b\n",
    "print(res)\n",
    "print(res.shape)"
   ]
  },
  {
   "cell_type": "code",
   "execution_count": 102,
   "metadata": {},
   "outputs": [
    {
     "name": "stdout",
     "output_type": "stream",
     "text": [
      "(3, 3)\n",
      "(2,)\n"
     ]
    },
    {
     "ename": "ValueError",
     "evalue": "operands could not be broadcast together with shapes (3,3) (2,) ",
     "output_type": "error",
     "traceback": [
      "\u001b[1;31m---------------------------------------------------------------------------\u001b[0m",
      "\u001b[1;31mValueError\u001b[0m                                Traceback (most recent call last)",
      "\u001b[1;32m<ipython-input-102-afcd5af7ce33>\u001b[0m in \u001b[0;36m<module>\u001b[1;34m\u001b[0m\n\u001b[0;32m     12\u001b[0m \u001b[0mb\u001b[0m \u001b[1;33m=\u001b[0m \u001b[0marray\u001b[0m\u001b[1;33m(\u001b[0m\u001b[1;33m[\u001b[0m\u001b[1;36m2\u001b[0m\u001b[1;33m,\u001b[0m \u001b[1;36m4\u001b[0m\u001b[1;33m]\u001b[0m\u001b[1;33m)\u001b[0m\u001b[1;33m\u001b[0m\u001b[1;33m\u001b[0m\u001b[0m\n\u001b[0;32m     13\u001b[0m \u001b[0mprint\u001b[0m\u001b[1;33m(\u001b[0m\u001b[0mb\u001b[0m\u001b[1;33m.\u001b[0m\u001b[0mshape\u001b[0m\u001b[1;33m)\u001b[0m\u001b[1;33m\u001b[0m\u001b[1;33m\u001b[0m\u001b[0m\n\u001b[1;32m---> 14\u001b[1;33m \u001b[0mres\u001b[0m \u001b[1;33m=\u001b[0m \u001b[0mA\u001b[0m \u001b[1;33m+\u001b[0m \u001b[0mb\u001b[0m \u001b[1;31m# this will not work as b's dimension shape are not matching with A's one\u001b[0m\u001b[1;33m\u001b[0m\u001b[1;33m\u001b[0m\u001b[0m\n\u001b[0m",
      "\u001b[1;31mValueError\u001b[0m: operands could not be broadcast together with shapes (3,3) (2,) "
     ]
    }
   ],
   "source": [
    "# Broadcasting limitations:\n",
    "# Broadcasting can only be performed when the shape of each dimension in the arrays are equal or one has the dimension size of 1.\n",
    "# e.g (3 X 3) and (3, 1) or (3 X 3) and (1, 3)\n",
    "# what is not correct \n",
    "# e.g (3 X 3) and (1, 2)\n",
    "A  = array([\n",
    "    [1, 2, 3],\n",
    "    [4, 5, 6],\n",
    "    [7, 8, 9]\n",
    "])\n",
    "print(A.shape)\n",
    "b = array([2, 4])\n",
    "print(b.shape)\n",
    "res = A + b # this will not work as b's dimension shape are not matching with A's one\n"
   ]
  },
  {
   "cell_type": "markdown",
   "metadata": {},
   "source": [
    "# Vector Norms:\n",
    "# Vector length"
   ]
  },
  {
   "cell_type": "code",
   "execution_count": null,
   "metadata": {},
   "outputs": [],
   "source": [
    "# Length of a vector is a non-negative number that describes the extent of the vector in space, and is sometimes referred to as the vector's magnitude or the norm.\n",
    "# Length of a vector is always a positive number, except for a vector of all zero values. \n",
    "# it is calculated using some measure that summarize the distance of vetor from the orgin of the vector space. \n",
    "# For e.g vector space for a vector with 3 elements is (0,0,0)"
   ]
  }
 ],
 "metadata": {
  "kernelspec": {
   "display_name": "Python 3",
   "language": "python",
   "name": "python3"
  },
  "language_info": {
   "codemirror_mode": {
    "name": "ipython",
    "version": 3
   },
   "file_extension": ".py",
   "mimetype": "text/x-python",
   "name": "python",
   "nbconvert_exporter": "python",
   "pygments_lexer": "ipython3",
   "version": "3.7.4"
  }
 },
 "nbformat": 4,
 "nbformat_minor": 2
}
