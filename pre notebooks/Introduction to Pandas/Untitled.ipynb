{
 "cells": [
  {
   "cell_type": "code",
   "execution_count": 1,
   "metadata": {},
   "outputs": [],
   "source": [
    "# String methods in python\n"
   ]
  },
  {
   "cell_type": "code",
   "execution_count": 2,
   "metadata": {},
   "outputs": [],
   "source": [
    "input_string = 'She sells seashells by the seashore. The shells she seels are surely seashells.'"
   ]
  },
  {
   "cell_type": "markdown",
   "metadata": {},
   "source": [
    "1) Center: The center() method center aligns a string. The alignment is done using a specified character (whitespace is the default)\n",
    "Syntax\n",
    "str.center(length, fillchar), where :\n",
    "\n",
    "length is the length of the string[Required]\n",
    "fillchar is the character which specifies the alignment[Optional]\n"
   ]
  },
  {
   "cell_type": "code",
   "execution_count": 3,
   "metadata": {},
   "outputs": [
    {
     "name": "stdout",
     "output_type": "stream",
     "text": [
      "_____algorithm______\n"
     ]
    }
   ],
   "source": [
    "given_string = 'algorithm' \n",
    "print(given_string.center(20, '_'))"
   ]
  },
  {
   "cell_type": "markdown",
   "metadata": {},
   "source": [
    "2) count: The count() method returns the count or the number of times a particular value appears in a string.\n",
    "\n",
    "Syntax\n",
    "\n",
    "str.count(value, start, end), where : value is the substring which is to be searched in the string[Required]\n",
    "\n",
    "start is the starting index within the string where the search for the specified value starts[Optional]\n",
    "\n",
    "end is the ending index within the string where the search for the specified value ends[Optional]"
   ]
  },
  {
   "cell_type": "code",
   "execution_count": 4,
   "metadata": {},
   "outputs": [
    {
     "name": "stdout",
     "output_type": "stream",
     "text": [
      "2\n"
     ]
    }
   ],
   "source": [
    "print(input_string.count('seashells'))"
   ]
  },
  {
   "cell_type": "code",
   "execution_count": 6,
   "metadata": {},
   "outputs": [
    {
     "name": "stdout",
     "output_type": "stream",
     "text": [
      "1\n"
     ]
    }
   ],
   "source": [
    "print(input_string.count('sells', 4, 20))\n"
   ]
  },
  {
   "cell_type": "markdown",
   "metadata": {},
   "source": [
    "3) find:\n",
    "\n",
    "The find() method returns the lowest index of a particular substring in a string. If the substring is not found, -1 is returned.\n",
    "\n",
    "Syntax\n",
    "\n",
    "str.find(value, start, end), where :\n",
    "\n",
    "value or substring which is to be searched in the string[Required]\n",
    "\n",
    "start is the starting index within the string where the search for the specified value starts[Optional]\n",
    "\n",
    "end is the ending index within the string where the search for the specified value ends[Optional]"
   ]
  },
  {
   "cell_type": "code",
   "execution_count": 7,
   "metadata": {},
   "outputs": [
    {
     "name": "stdout",
     "output_type": "stream",
     "text": [
      "10\n"
     ]
    }
   ],
   "source": [
    "print(input_string.find('seashells'))"
   ]
  },
  {
   "cell_type": "markdown",
   "metadata": {},
   "source": [
    "rFind:\n",
    "\n",
    "It returns the highest index of a particular substring in a string.\n"
   ]
  },
  {
   "cell_type": "code",
   "execution_count": 8,
   "metadata": {},
   "outputs": [
    {
     "name": "stdout",
     "output_type": "stream",
     "text": [
      "69\n"
     ]
    }
   ],
   "source": [
    "print(input_string.rfind('seashells'))"
   ]
  },
  {
   "cell_type": "markdown",
   "metadata": {},
   "source": [
    "swapcase: \n",
    "\n",
    "The swapcase() method returns a copy of the string with all its uppercase letters converted into lower case and vice versa"
   ]
  },
  {
   "cell_type": "code",
   "execution_count": 9,
   "metadata": {},
   "outputs": [
    {
     "name": "stdout",
     "output_type": "stream",
     "text": [
      "sHE SELLS SEASHELLS BY THE SEASHORE. tHE SHELLS SHE SEELS ARE SURELY SEASHELLS.\n"
     ]
    }
   ],
   "source": [
    "print(input_string.swapcase())"
   ]
  },
  {
   "cell_type": "markdown",
   "metadata": {},
   "source": [
    "startswith:\n",
    "\n",
    "The startswith() method returns True if the string starts with the specified value; otherwise, it returns False."
   ]
  },
  {
   "cell_type": "code",
   "execution_count": 11,
   "metadata": {},
   "outputs": [
    {
     "name": "stdout",
     "output_type": "stream",
     "text": [
      "True\n",
      "False\n",
      "False\n"
     ]
    }
   ],
   "source": [
    "my_string = 'der lagi par mene jina sikh liya'\n",
    "print(my_string.startswith('der'))\n",
    "print(my_string.startswith('sikh'))\n",
    "print(my_string.startswith('s'))"
   ]
  },
  {
   "cell_type": "markdown",
   "metadata": {},
   "source": [
    "endswith: \n",
    "\n",
    "The endswith() method returns true if the string ends with the sepecified value, otherwise it returns False."
   ]
  },
  {
   "cell_type": "code",
   "execution_count": 12,
   "metadata": {},
   "outputs": [
    {
     "data": {
      "text/plain": [
       "True"
      ]
     },
     "execution_count": 12,
     "metadata": {},
     "output_type": "execute_result"
    }
   ],
   "source": [
    "new_string = 'Binary search is classic recursion based search'\n",
    "new_string.endswith('search')"
   ]
  },
  {
   "cell_type": "markdown",
   "metadata": {},
   "source": [
    "split:\n",
    "\n",
    "The split() method returns a list of words in a string where default separator is any whitespace\n",
    "\n",
    "Syntax\n",
    "\n",
    "string.split(sep, maxsplit)\n",
    "\n",
    "sep: The separator to be used for splitting the string. if nothing is specified, whitespace is the default separator[Optional]\n",
    "maxsplit: denotes the number of splits. Default is -1 which means “all occurrences”[Optional]"
   ]
  },
  {
   "cell_type": "code",
   "execution_count": 23,
   "metadata": {},
   "outputs": [
    {
     "name": "stdout",
     "output_type": "stream",
     "text": [
      "['She sells sea', 'lls by the seashore. The ', 'lls she seels are surely seashells.']\n",
      "['She sells sea', 'lls by the seashore. The ', 'lls ', ' seels are surely seashells.']\n"
     ]
    }
   ],
   "source": [
    "print(input_string.split('she', 2))\n",
    "print(input_string.split('she', 3))"
   ]
  },
  {
   "cell_type": "markdown",
   "metadata": {},
   "source": [
    "rsplit\n",
    "\n",
    "Splits the string from the right side.\n"
   ]
  },
  {
   "cell_type": "code",
   "execution_count": 21,
   "metadata": {},
   "outputs": [
    {
     "name": "stdout",
     "output_type": "stream",
     "text": [
      "['She sells sea', 'lls by the seashore. The ', 'lls ', ' seels are surely sea', 'lls.']\n"
     ]
    }
   ],
   "source": [
    "print(input_string.rsplit('she'))"
   ]
  },
  {
   "cell_type": "markdown",
   "metadata": {},
   "source": [
    "String captialization:\n",
    "\n",
    "- captialize: The capitalize() method capitalizes only the first character of a string.\n"
   ]
  },
  {
   "cell_type": "code",
   "execution_count": 25,
   "metadata": {},
   "outputs": [
    {
     "name": "stdout",
     "output_type": "stream",
     "text": [
      "Ye kha to reh gya\n"
     ]
    }
   ],
   "source": [
    "print('ye kha to reh gya'.capitalize())\n"
   ]
  },
  {
   "cell_type": "markdown",
   "metadata": {},
   "source": [
    "- upper:\n",
    "The upper() method capitalizes all the letters of the string."
   ]
  },
  {
   "cell_type": "code",
   "execution_count": 26,
   "metadata": {},
   "outputs": [
    {
     "name": "stdout",
     "output_type": "stream",
     "text": [
      "YE KHA TO REH GYA\n"
     ]
    }
   ],
   "source": [
    "print('ye kha to reh gya'.upper())"
   ]
  },
  {
   "cell_type": "markdown",
   "metadata": {},
   "source": [
    "- title:\n",
    "The title() method capitalizes all the first letters of the given string."
   ]
  },
  {
   "cell_type": "code",
   "execution_count": 28,
   "metadata": {},
   "outputs": [
    {
     "name": "stdout",
     "output_type": "stream",
     "text": [
      "Ye Kha To Reh Gya\n"
     ]
    }
   ],
   "source": [
    "print('ye kha to reh gya'.title())"
   ]
  },
  {
   "cell_type": "markdown",
   "metadata": {},
   "source": [
    "strip\n",
    "\n",
    "The strip() method returns a copy of the string with the leading and trailing characters removed. Default character to be removed is whitespace.\n",
    "\n",
    "Syntax\n",
    "string.strip(character)\n",
    "character: set of characters to be removed[Optional]\n"
   ]
  },
  {
   "cell_type": "code",
   "execution_count": 29,
   "metadata": {},
   "outputs": [
    {
     "name": "stdout",
     "output_type": "stream",
     "text": [
      "zindagi do rango    se mile\n"
     ]
    }
   ],
   "source": [
    "print('   zindagi do rango    se mile    '.strip())\n"
   ]
  },
  {
   "cell_type": "markdown",
   "metadata": {},
   "source": [
    "- rstrip: to remove space from the right side."
   ]
  },
  {
   "cell_type": "code",
   "execution_count": 30,
   "metadata": {},
   "outputs": [
    {
     "name": "stdout",
     "output_type": "stream",
     "text": [
      "      zindagi do rango   se mile\n"
     ]
    }
   ],
   "source": [
    "print('      zindagi do rango   se mile    '.rstrip())"
   ]
  },
  {
   "cell_type": "markdown",
   "metadata": {},
   "source": [
    "lstrip: to remove spaces from left\n"
   ]
  },
  {
   "cell_type": "code",
   "execution_count": 31,
   "metadata": {},
   "outputs": [
    {
     "name": "stdout",
     "output_type": "stream",
     "text": [
      "sabhi to   sabhi to he yaha\n"
     ]
    }
   ],
   "source": [
    "print('   sabhi to   sabhi to he yaha'.lstrip())"
   ]
  },
  {
   "cell_type": "markdown",
   "metadata": {},
   "source": [
    "zfill():\n",
    "\n",
    "The zfill() method adds zeros(0) at the beginning of the string. The length of the returned string depends on the width provided.\n",
    "\n",
    "Syntax\n",
    "string.zfill(width)\n",
    "width: specifies the length of the returned string. However, no zeros are added if the width parameter is less than the length of the original string."
   ]
  },
  {
   "cell_type": "code",
   "execution_count": 32,
   "metadata": {},
   "outputs": [
    {
     "name": "stdout",
     "output_type": "stream",
     "text": [
      "-000007\n"
     ]
    }
   ],
   "source": [
    "print('-7'.zfill(7))\n"
   ]
  },
  {
   "cell_type": "code",
   "execution_count": 33,
   "metadata": {},
   "outputs": [
    {
     "name": "stdout",
     "output_type": "stream",
     "text": [
      "python\n"
     ]
    }
   ],
   "source": [
    "print('python'.zfill(3))"
   ]
  },
  {
   "cell_type": "code",
   "execution_count": 34,
   "metadata": {},
   "outputs": [
    {
     "name": "stdout",
     "output_type": "stream",
     "text": [
      "000python\n"
     ]
    }
   ],
   "source": [
    "print('python'.zfill(9))"
   ]
  },
  {
   "cell_type": "code",
   "execution_count": null,
   "metadata": {},
   "outputs": [],
   "source": []
  }
 ],
 "metadata": {
  "kernelspec": {
   "display_name": "Python 2",
   "language": "python",
   "name": "python2"
  },
  "language_info": {
   "codemirror_mode": {
    "name": "ipython",
    "version": 2
   },
   "file_extension": ".py",
   "mimetype": "text/x-python",
   "name": "python",
   "nbconvert_exporter": "python",
   "pygments_lexer": "ipython2",
   "version": "2.7.15"
  }
 },
 "nbformat": 4,
 "nbformat_minor": 2
}
